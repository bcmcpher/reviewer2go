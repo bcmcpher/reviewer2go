{
 "cells": [
  {
   "cell_type": "code",
   "execution_count": 8,
   "id": "82a195ce-7dc6-4e78-8015-448c59e807c3",
   "metadata": {},
   "outputs": [],
   "source": [
    "from langchain.chat_models import ChatOpenAI\n",
    "import os\n",
    "\n",
    "import openai\n",
    "\n",
    "from langchain.output_parsers import PydanticOutputParser\n",
    "\n",
    "\n",
    "from langchain.pydantic_v1 import BaseModel, Field, validator\n",
    "from langchain.prompts import PromptTemplate"
   ]
  },
  {
   "cell_type": "code",
   "execution_count": 9,
   "id": "15ee8678-a101-4f79-9cca-586da4077bfa",
   "metadata": {},
   "outputs": [],
   "source": [
    "os.environ['OPENAI_API_KEY'] = ''\n",
    "openai.api_key = os.environ.get('OPENAI_API_KEY')\n",
    "\n",
    "llm = ChatOpenAI(openai_api_key=os.environ['OPENAI_API_KEY'])"
   ]
  },
  {
   "cell_type": "code",
   "execution_count": 18,
   "id": "74da6f05-9316-4522-b969-77d070f220ea",
   "metadata": {},
   "outputs": [],
   "source": [
    "# Define your desired data structure.\n",
    "\n",
    "TRUE = ['yes', 'true']\n",
    "FALSE = ['no', 'false']\n",
    "class Binary(BaseModel):\n",
    "    value: str = Field(description=\"yes or no value\", examples=['yes', 'no'])\n",
    "\n",
    "    def __bool__(self):\n",
    "        if self.value in TRUE:\n",
    "            return True\n",
    "        else:\n",
    "            return False\n",
    "\n",
    "    def __str__(self):\n",
    "        return self.value\n",
    "\n",
    "binary_parser = PydanticOutputParser(pydantic_object=Binary)\n",
    "\n",
    "class ClusterMethod(BaseModel):\n",
    "    method: str = Field(description=\"type of clustering method used\", examples=['k-mean', 'hiearchial', 'not found'])\n",
    "\n",
    "\n",
    "\n",
    "    \n",
    "\n",
    "\n",
    "\n",
    "template = \"You are a helpful assistant in the field of {field} that search if the concept of {concept} is present or not in the text.\\n {format_instructions}. \\n The text is :  \\n {text}\\n\"\n",
    "\n",
    "\n",
    "neuro_concept_present_prompt = PromptTemplate(\n",
    "    template=template,\n",
    "    input_variables=[\"text\", \"concept\"],\n",
    "    partial_variables={\"format_instructions\": binary_parser.get_format_instructions(), \"field\":\"neuroscience\"},\n",
    ")\n"
   ]
  },
  {
   "cell_type": "code",
   "execution_count": 27,
   "id": "6061ee49-3b10-461c-8caa-001a9d25a259",
   "metadata": {},
   "outputs": [],
   "source": [
    "is_concept_present = neuro_concept_present_prompt | llm | binary_parser\n",
    "small_chain = neuro_concept_present_prompt | llm"
   ]
  },
  {
   "cell_type": "code",
   "execution_count": 26,
   "id": "324a8e2b-7df4-47a1-88d7-6e391eac5260",
   "metadata": {},
   "outputs": [
    {
     "data": {
      "text/plain": [
       "Binary(value='yes')"
      ]
     },
     "execution_count": 26,
     "metadata": {},
     "output_type": "execute_result"
    }
   ],
   "source": [
    "a = is_concept_present.invoke({\"concept\":\"despiking\", \"text\":\"I love despiking. It's help to understand the data\"})\n",
    "a"
   ]
  },
  {
   "cell_type": "code",
   "execution_count": 21,
   "id": "bc0dae2b-cb7a-4e95-9f59-fc72fc5b59c8",
   "metadata": {},
   "outputs": [
    {
     "data": {
      "text/plain": [
       "'no'"
      ]
     },
     "execution_count": 21,
     "metadata": {},
     "output_type": "execute_result"
    }
   ],
   "source": [
    "str(a)"
   ]
  },
  {
   "cell_type": "code",
   "execution_count": 25,
   "id": "ddac1c35-1b5c-4eb4-9954-b889f39d0e44",
   "metadata": {},
   "outputs": [
    {
     "data": {
      "text/plain": [
       "'You are a helpful assistant in the field of neuroscience that search if the concept of despiking is present or not in the text.\\n The output should be formatted as a JSON instance that conforms to the JSON schema below.\\n\\nAs an example, for the schema {\"properties\": {\"foo\": {\"title\": \"Foo\", \"description\": \"a list of strings\", \"type\": \"array\", \"items\": {\"type\": \"string\"}}}, \"required\": [\"foo\"]}\\nthe object {\"foo\": [\"bar\", \"baz\"]} is a well-formatted instance of the schema. The object {\"properties\": {\"foo\": [\"bar\", \"baz\"]}} is not well-formatted.\\n\\nHere is the output schema:\\n```\\n{\"properties\": {\"value\": {\"title\": \"Value\", \"description\": \"yes or no value\", \"examples\": [\"yes\", \"no\"], \"type\": \"string\"}}, \"required\": [\"value\"]}\\n```. \\n The text is :  \\n I love life. It\\'s help to understand the data\\n'"
      ]
     },
     "execution_count": 25,
     "metadata": {},
     "output_type": "execute_result"
    }
   ],
   "source": [
    "neuro_concept_present_prompt.invoke({\"concept\":\"despiking\", \"text\":\"I love life. It's help to understand the data\"}).text"
   ]
  },
  {
   "cell_type": "code",
   "execution_count": 29,
   "id": "7684937c-3756-4535-8d3c-be0a027eddf4",
   "metadata": {},
   "outputs": [
    {
     "data": {
      "text/plain": [
       "AIMessage(content='{\"value\": \"yes\"}')"
      ]
     },
     "execution_count": 29,
     "metadata": {},
     "output_type": "execute_result"
    }
   ],
   "source": [
    "small_chain.invoke({\"concept\":\"despiking\", \"text\":\"I love despiking. It's help to understand the data\"})"
   ]
  },
  {
   "cell_type": "code",
   "execution_count": 34,
   "id": "49b21e0e-ea73-48fc-96e4-8bcb25739e97",
   "metadata": {},
   "outputs": [],
   "source": [
    "\n",
    "\n",
    "class ClusterMethod(BaseModel):\n",
    "    method: str = Field(description=\"type of clustering method used\", examples=['k-mean', 'hiearchial', 'not found'])\n",
    "\n",
    "clustering_parser = PydanticOutputParser(pydantic_object=ClusterMethod)\n",
    "\n",
    "\n",
    "template = \"You are a helpful assistant in the field of {field} that tell me the method used for {method}.\\n {format_instructions}. \\n The text is :  \\n {text}\\n\"\n",
    "\n",
    "\n",
    "clustering_prompt = PromptTemplate(\n",
    "    template=template,\n",
    "    input_variables=[\"text\", \"method\"],\n",
    "    partial_variables={\"format_instructions\": clustering_parser.get_format_instructions(), \"field\":\"neuroscience\"},\n",
    ")"
   ]
  },
  {
   "cell_type": "code",
   "execution_count": 35,
   "id": "1ea98929-1920-470b-9df7-869789a04c89",
   "metadata": {},
   "outputs": [],
   "source": [
    "cluster_method_use = clustering_prompt | llm | clustering_parser"
   ]
  },
  {
   "cell_type": "code",
   "execution_count": 36,
   "id": "eefdb570-8735-494f-b3eb-b7ca72f8ec2a",
   "metadata": {},
   "outputs": [
    {
     "data": {
      "text/plain": [
       "ClusterMethod(method='k-mean')"
      ]
     },
     "execution_count": 36,
     "metadata": {},
     "output_type": "execute_result"
    }
   ],
   "source": [
    "a = cluster_method_use.invoke({\"method\":\"clustering\", \"text\":\"We used k-mean clustring method to analyse data.\"})\n",
    "a"
   ]
  },
  {
   "cell_type": "code",
   "execution_count": null,
   "id": "51449d2e-541d-4474-8953-e31291b5088f",
   "metadata": {},
   "outputs": [],
   "source": []
  }
 ],
 "metadata": {
  "kernelspec": {
   "display_name": "Python 3 (ipykernel)",
   "language": "python",
   "name": "python3"
  },
  "language_info": {
   "codemirror_mode": {
    "name": "ipython",
    "version": 3
   },
   "file_extension": ".py",
   "mimetype": "text/x-python",
   "name": "python",
   "nbconvert_exporter": "python",
   "pygments_lexer": "ipython3",
   "version": "3.12.0"
  }
 },
 "nbformat": 4,
 "nbformat_minor": 5
}
